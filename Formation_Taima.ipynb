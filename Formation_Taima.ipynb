{
  "nbformat": 4,
  "nbformat_minor": 0,
  "metadata": {
    "colab": {
      "provenance": [],
      "authorship_tag": "ABX9TyP6vkN1K3g/E7R6WOllizxm",
      "include_colab_link": true
    },
    "kernelspec": {
      "name": "python3",
      "display_name": "Python 3"
    },
    "language_info": {
      "name": "python"
    }
  },
  "cells": [
    {
      "cell_type": "markdown",
      "metadata": {
        "id": "view-in-github",
        "colab_type": "text"
      },
      "source": [
        "<a href=\"https://colab.research.google.com/github/ayarii/From-Machine-Learning-towards-Deep-Learning/blob/main/Formation_Taima.ipynb\" target=\"_parent\"><img src=\"https://colab.research.google.com/assets/colab-badge.svg\" alt=\"Open In Colab\"/></a>"
      ]
    },
    {
      "cell_type": "code",
      "execution_count": 22,
      "metadata": {
        "id": "1l95RQyt-xsE"
      },
      "outputs": [],
      "source": [
        "import numpy as np # traitement des arrays numériques\n",
        "np.random.seed = 2017 # pour des résultats reproductibles\n",
        "import matplotlib.pyplot as plt # traçage de graphiques\n",
        "import pandas as pd #BD\n",
        "import scipy.stats "
      ]
    },
    {
      "cell_type": "code",
      "source": [
        "mu1=[1, 1, 1]; #variance\n",
        "rng = np.random.default_rng(2021) #genration des données aléatoire\n",
        "sigma1= np.identity(3) #3=dimension matrice , sigma = matrice de covariance\n",
        "mvn1= rng .multivariate_normal(mu1,sigma1,1000)"
      ],
      "metadata": {
        "id": "Durg5mvKBmWc"
      },
      "execution_count": 23,
      "outputs": []
    },
    {
      "cell_type": "code",
      "source": [
        "mu2=[4, 3, 2];\n",
        "rng = np.random.default_rng(2021) #genration des données aléatoire\n",
        "sigma2= 2*sigma1 #3=dimension matrice , sigma = matrice de covariance\n",
        "sigma2= np.identity(3) \n",
        "mvn2= rng .multivariate_normal(mu2,sigma2,1000)"
      ],
      "metadata": {
        "id": "AZQC5tdRinbf"
      },
      "execution_count": 24,
      "outputs": []
    },
    {
      "cell_type": "code",
      "source": [
        "sigma1"
      ],
      "metadata": {
        "colab": {
          "base_uri": "https://localhost:8080/"
        },
        "id": "vW0c0KR3DJq1",
        "outputId": "f1c52e3a-1ee7-4cdc-d9f7-0ea15afbcb5a"
      },
      "execution_count": 25,
      "outputs": [
        {
          "output_type": "execute_result",
          "data": {
            "text/plain": [
              "array([[1., 0., 0.],\n",
              "       [0., 1., 0.],\n",
              "       [0., 0., 1.]])"
            ]
          },
          "metadata": {},
          "execution_count": 25
        }
      ]
    },
    {
      "cell_type": "code",
      "source": [
        "sigma2"
      ],
      "metadata": {
        "colab": {
          "base_uri": "https://localhost:8080/"
        },
        "id": "PIi2Eqd0i4W6",
        "outputId": "48a915f2-4316-4d53-92d6-694d9fe99b8c"
      },
      "execution_count": 26,
      "outputs": [
        {
          "output_type": "execute_result",
          "data": {
            "text/plain": [
              "array([[2., 0., 0.],\n",
              "       [0., 2., 0.],\n",
              "       [0., 0., 2.]])"
            ]
          },
          "metadata": {},
          "execution_count": 26
        }
      ]
    },
    {
      "cell_type": "code",
      "source": [
        "mvn1"
      ],
      "metadata": {
        "colab": {
          "base_uri": "https://localhost:8080/"
        },
        "id": "_g47RexzDriN",
        "outputId": "0332a678-06c6-4a61-9318-266964e94b71"
      },
      "execution_count": 27,
      "outputs": [
        {
          "output_type": "execute_result",
          "data": {
            "text/plain": [
              "array([[ 0.9311388 ,  0.31303441,  0.2115132 ],\n",
              "       [ 2.07600685,  0.98947583,  0.54434737],\n",
              "       [ 0.96133853, -1.62149639,  0.17676013],\n",
              "       ...,\n",
              "       [ 0.10313006,  0.92122234,  0.35163724],\n",
              "       [ 0.28665132,  0.62389029,  1.87052273],\n",
              "       [ 1.62275371,  0.90621569,  1.63313858]])"
            ]
          },
          "metadata": {},
          "execution_count": 27
        }
      ]
    },
    {
      "cell_type": "code",
      "source": [
        "mvn2"
      ],
      "metadata": {
        "colab": {
          "base_uri": "https://localhost:8080/"
        },
        "id": "JQNiP7nEjdpt",
        "outputId": "88e1504f-c218-41d1-881a-a1781f5a1ab4"
      },
      "execution_count": 28,
      "outputs": [
        {
          "output_type": "execute_result",
          "data": {
            "text/plain": [
              "array([[ 3.90261556,  2.02848394,  0.88491128],\n",
              "       [ 5.52170348,  2.98511658,  1.35560987],\n",
              "       [ 3.94532443, -0.70735575,  0.83576301],\n",
              "       ...,\n",
              "       [ 2.73163436,  2.88859157,  1.0830766 ],\n",
              "       [ 2.99117262,  2.46810055,  3.23110505],\n",
              "       [ 4.88070674,  2.86736895,  2.89539317]])"
            ]
          },
          "metadata": {},
          "execution_count": 28
        }
      ]
    },
    {
      "cell_type": "markdown",
      "source": [
        "#Normaliser les données "
      ],
      "metadata": {
        "id": "YZ7U6d0UD54f"
      }
    },
    {
      "cell_type": "code",
      "source": [
        "from sklearn.preprocessing import StandardScaler #sklearn bib ML-DEEP\n",
        "X_std = StandardScaler().fit_transform(mvn1)"
      ],
      "metadata": {
        "id": "2vIO5D0_EBlN"
      },
      "execution_count": 29,
      "outputs": []
    },
    {
      "cell_type": "code",
      "source": [
        "from sklearn.preprocessing import StandardScaler #sklearn bib ML-DEEP\n",
        "X_std = StandardScaler().fit_transform(mvn2)"
      ],
      "metadata": {
        "id": "zTBdvf0ujtOa"
      },
      "execution_count": 38,
      "outputs": []
    },
    {
      "cell_type": "markdown",
      "source": [
        "## 1-Décomposition propre - Calcul des vecteurs propres et des valeurs propres\n"
      ],
      "metadata": {
        "id": "iwPR1YFcE7Bj"
      }
    },
    {
      "cell_type": "code",
      "source": [
        "mean_vec = np.mean(X_std, axis=0) #moyenne des donéees\n",
        "print('means vector \\n%s' %mean_vec)"
      ],
      "metadata": {
        "colab": {
          "base_uri": "https://localhost:8080/"
        },
        "id": "mwPAsy3FFA1l",
        "outputId": "048e62c1-829b-4600-e2eb-ccab2f2a9b9a"
      },
      "execution_count": 30,
      "outputs": [
        {
          "output_type": "stream",
          "name": "stdout",
          "text": [
            "means vector \n",
            "[-6.14952533e-16 -4.07174294e-17 -5.87752069e-16]\n"
          ]
        }
      ]
    },
    {
      "cell_type": "code",
      "source": [
        "cov_mat = (X_std - mean_vec).T.dot((X_std - mean_vec)) / (X_std.shape[0]-1)\n",
        "print('Covariance matrix \\n%s' %cov_mat)"
      ],
      "metadata": {
        "colab": {
          "base_uri": "https://localhost:8080/"
        },
        "id": "e8_XAX8nFU6M",
        "outputId": "cd570738-396b-44dd-ab65-ee4f13dee11e"
      },
      "execution_count": 31,
      "outputs": [
        {
          "output_type": "stream",
          "name": "stdout",
          "text": [
            "Covariance matrix \n",
            "[[ 1.001001   -0.06225843  0.06038322]\n",
            " [-0.06225843  1.001001   -0.0316387 ]\n",
            " [ 0.06038322 -0.0316387   1.001001  ]]\n"
          ]
        }
      ]
    },
    {
      "cell_type": "markdown",
      "source": [
        "##décomposition propre sur la matrice de covariance :"
      ],
      "metadata": {
        "id": "5IFxH12gGF4B"
      }
    },
    {
      "cell_type": "code",
      "source": [
        "cov_mat = np.cov(X_std.T)\n",
        "eig_vals, eig_vecs = np.linalg.eig(cov_mat)  #Calculer les valeurs propres et les vecteurs propres droits d'un tableau carré.\n",
        "\n",
        "print('Vecteurs propres \\n%s' %eig_vecs)\n",
        "print('\\nValeurs propres \\n%s' %eig_vals)"
      ],
      "metadata": {
        "colab": {
          "base_uri": "https://localhost:8080/"
        },
        "id": "gfe2kPUbGWqG",
        "outputId": "07d41129-76bc-4391-dc44-e0304157c306"
      },
      "execution_count": 32,
      "outputs": [
        {
          "output_type": "stream",
          "name": "stdout",
          "text": [
            "Vecteurs propres \n",
            "[[ 0.64054007 -0.76777451 -0.01518906]\n",
            " [-0.54741524 -0.47039133  0.69214778]\n",
            " [ 0.53855823  0.43503367  0.72159597]]\n",
            "\n",
            "Valeurs propres \n",
            "[1.10497747 0.92864309 0.96938244]\n"
          ]
        }
      ]
    },
    {
      "cell_type": "markdown",
      "source": [
        "## Sélection des composants principaux"
      ],
      "metadata": {
        "id": "5wyuModFGmtJ"
      }
    },
    {
      "cell_type": "code",
      "source": [
        "# créer une liste de tuples (valeur propre, vecteur propre)\n",
        "\n",
        "eig_pairs = [(np.abs(eig_vals[i]), eig_vecs[:,i]) for i in range(len(eig_vals))]\n",
        "\n",
        "# Trier les tuples (valeur propre, vecteur propre) de haut en bas\n",
        "eig_pairs.sort(key=lambda x: x[0], reverse=True)\n",
        "\n",
        "# Confirmer visuellement que la liste est correctement triée par valeurs propres décroissantes\n",
        "print('Valeurs propres par ordre décroissant :')\n",
        "for i in eig_pairs:\n",
        "    print(i[0])"
      ],
      "metadata": {
        "colab": {
          "base_uri": "https://localhost:8080/"
        },
        "id": "T0AMj1fHGp2R",
        "outputId": "e22daecd-3413-4623-8f54-b5cb7ea07ca9"
      },
      "execution_count": 33,
      "outputs": [
        {
          "output_type": "stream",
          "name": "stdout",
          "text": [
            "Valeurs propres par ordre décroissant :\n",
            "1.1049774727128436\n",
            "0.969382443051587\n",
            "0.9286430872385731\n"
          ]
        }
      ]
    },
    {
      "cell_type": "markdown",
      "source": [
        "##Matrice de projection"
      ],
      "metadata": {
        "id": "UjTEbBnUG-x5"
      }
    },
    {
      "cell_type": "code",
      "source": [
        "matrix_w = np.hstack((eig_pairs[0][1].reshape(3,1), #concat entre 2 vecteurs pour données une matrice\n",
        "                      eig_pairs[1][1].reshape(3,1))) #reshape: modification de dimension\n",
        "print('Matrix W:\\n', matrix_w)"
      ],
      "metadata": {
        "colab": {
          "base_uri": "https://localhost:8080/"
        },
        "id": "TURDqoAJHBU9",
        "outputId": "7bc9a123-50a3-40d0-decf-4b4355c30d0c"
      },
      "execution_count": 34,
      "outputs": [
        {
          "output_type": "stream",
          "name": "stdout",
          "text": [
            "Matrix W:\n",
            " [[ 0.64054007 -0.01518906]\n",
            " [-0.54741524  0.69214778]\n",
            " [ 0.53855823  0.72159597]]\n"
          ]
        }
      ]
    },
    {
      "cell_type": "markdown",
      "source": [
        "## Projection sur le nouvel espace de fonctionnalité"
      ],
      "metadata": {
        "id": "7ryEQ6qcHOlQ"
      }
    },
    {
      "cell_type": "code",
      "source": [
        "X_PC1 = X_std.dot(matrix_w) #[2*3][3*1000] matrice entrée* matrice de projection"
      ],
      "metadata": {
        "id": "3lVhdSTWHRyi"
      },
      "execution_count": 35,
      "outputs": []
    },
    {
      "cell_type": "code",
      "source": [
        "X_PC1"
      ],
      "metadata": {
        "colab": {
          "base_uri": "https://localhost:8080/"
        },
        "id": "C3Uf1ll_J42k",
        "outputId": "060eee8d-c7b4-4b8c-89fa-4de9e5321427"
      },
      "execution_count": 36,
      "outputs": [
        {
          "output_type": "execute_result",
          "data": {
            "text/plain": [
              "array([[-0.09028482, -1.06129978],\n",
              "       [ 0.44374866, -0.354772  ],\n",
              "       [ 1.01009234, -2.47667408],\n",
              "       ...,\n",
              "       [-0.89689019, -0.5113676 ],\n",
              "       [ 0.20157035,  0.35845073],\n",
              "       [ 0.77895118,  0.37104163]])"
            ]
          },
          "metadata": {},
          "execution_count": 36
        }
      ]
    },
    {
      "cell_type": "code",
      "source": [
        "import matplotlib.pyplot as plt # traçage de graphiques\n",
        "plt.figure(figsize=(15,4))\n",
        "plt.plot(1, 2, 2)\n",
        "plt.title(\"data projection onto the first 2 component\")\n",
        "plt.xlabel('Principal Component 1')\n",
        "plt.ylabel('Principal Component 2')\n",
        "plt.scatter(X_PC1[:, 0], X_PC1[:, 1], )\n"
      ],
      "metadata": {
        "colab": {
          "base_uri": "https://localhost:8080/",
          "height": 427
        },
        "id": "Mk2371udK4ya",
        "outputId": "b405963d-d338-4d60-bbc1-949c12d5fe8a"
      },
      "execution_count": 37,
      "outputs": [
        {
          "output_type": "execute_result",
          "data": {
            "text/plain": [
              "<matplotlib.collections.PathCollection at 0x7f91d1a729e0>"
            ]
          },
          "metadata": {},
          "execution_count": 37
        },
        {
          "output_type": "display_data",
          "data": {
            "text/plain": [
              "<Figure size 1500x400 with 1 Axes>"
            ],
            "image/png": "[encoded data removed]"
          },
          "metadata": {}
        }
      ]
    }
  ]
}